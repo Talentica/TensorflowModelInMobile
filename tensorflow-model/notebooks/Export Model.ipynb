{
 "cells": [
  {
   "cell_type": "code",
   "execution_count": 5,
   "metadata": {},
   "outputs": [],
   "source": [
    "import tensorflow as tf\n",
    "import scipy as sp\n",
    "import scipy.signal\n",
    "import numpy as np\n",
    "import matplotlib.pyplot as plt\n",
    "from model.filter.motion_detector import MotionDetector\n",
    "from tensorflow.core.framework import graph_pb2\n",
    "from tensorflow.python.platform import gfile"
   ]
  },
  {
   "cell_type": "code",
   "execution_count": 2,
   "metadata": {},
   "outputs": [],
   "source": [
    "b = np.array([3.75683802e-06, 1.12705141e-05, 1.12705141e-05, 3.75683802e-06])\n",
    "a = np.array([ 1.        , -2.93717073,  2.87629972, -0.93909894])\n",
    "outState = np.zeros(3)\n"
   ]
  },
  {
   "cell_type": "code",
   "execution_count": 3,
   "metadata": {},
   "outputs": [
    {
     "name": "stdout",
     "output_type": "stream",
     "text": [
      "[(0.26895174, array([3.1226984e-04, 6.5061176e-06, 1.0198832e-04], dtype=float32))]\n"
     ]
    }
   ],
   "source": [
    "\n",
    "mfmodel = MotionDetector(a,b, 1, 1)\n",
    "print (mfmodel.run(1,2,3, outState))\n"
   ]
  },
  {
   "cell_type": "code",
   "execution_count": 4,
   "metadata": {},
   "outputs": [],
   "source": [
    "\n",
    "export_path = '/workspace/models/MF%d/' % 1\n",
    "mfmodel.export_for_mobile(export_path)\n"
   ]
  },
  {
   "cell_type": "code",
   "execution_count": 7,
   "metadata": {},
   "outputs": [
    {
     "name": "stdout",
     "output_type": "stream",
     "text": [
      "mf/threshold\n",
      "mf/iir/constA\n",
      "mf/iir/constB\n",
      "mf/iir/InState\n",
      "mf/K\n",
      "mf/ax\n",
      "mf/ay\n",
      "mf/az\n",
      "mf/operations/Pow/y\n",
      "mf/operations/Pow\n",
      "mf/operations/Pow_1/y\n",
      "mf/operations/Pow_1\n",
      "mf/operations/add\n",
      "mf/operations/Pow_2/y\n",
      "mf/operations/Pow_2\n",
      "mf/operations/add_1\n",
      "mf/a/y\n",
      "mf/a\n",
      "mf/iir/iirOperations/strided_slice/stack\n",
      "mf/iir/iirOperations/strided_slice/stack_1\n",
      "mf/iir/iirOperations/strided_slice/stack_2\n",
      "mf/iir/iirOperations/strided_slice\n",
      "mf/iir/iirOperations/Mul\n",
      "mf/iir/iirOperations/strided_slice_1/stack\n",
      "mf/iir/iirOperations/strided_slice_1/stack_1\n",
      "mf/iir/iirOperations/strided_slice_1/stack_2\n",
      "mf/iir/iirOperations/strided_slice_1\n",
      "mf/iir/Y\n",
      "mf/operations_1/Sub\n",
      "mf/operations_1/Mul\n",
      "mf/y\n",
      "mf/iir/iirOperations_1/strided_slice/stack\n",
      "mf/iir/iirOperations_1/strided_slice/stack_1\n",
      "mf/iir/iirOperations_1/strided_slice/stack_2\n",
      "mf/iir/iirOperations_1/strided_slice\n",
      "mf/iir/iirOperations_1/Mul\n",
      "mf/iir/iirOperations_1/strided_slice_1/stack\n",
      "mf/iir/iirOperations_1/strided_slice_1/stack_1\n",
      "mf/iir/iirOperations_1/strided_slice_1/stack_2\n",
      "mf/iir/iirOperations_1/strided_slice_1\n",
      "mf/iir/iirOperations_1/Mul_1\n",
      "mf/iir/iirOperations_1/sub\n",
      "mf/iir/iirOperations_1/strided_slice_2/stack\n",
      "mf/iir/iirOperations_1/strided_slice_2/stack_1\n",
      "mf/iir/iirOperations_1/strided_slice_2/stack_2\n",
      "mf/iir/iirOperations_1/strided_slice_2\n",
      "mf/iir/iirOperations_1/strided_slice_3/stack\n",
      "mf/iir/iirOperations_1/strided_slice_3/stack_1\n",
      "mf/iir/iirOperations_1/strided_slice_3/stack_2\n",
      "mf/iir/iirOperations_1/strided_slice_3\n",
      "mf/iir/iirOperations_1/add\n",
      "mf/iir/iirOperations_1/strided_slice_4/stack\n",
      "mf/iir/iirOperations_1/strided_slice_4/stack_1\n",
      "mf/iir/iirOperations_1/strided_slice_4/stack_2\n",
      "mf/iir/iirOperations_1/strided_slice_4\n",
      "mf/iir/OutState/axis\n",
      "mf/iir/OutState\n"
     ]
    }
   ],
   "source": [
    "input = export_path + 'motion_detector.pb'\n",
    "input_graph_def = graph_pb2.GraphDef()\n",
    "with gfile.Open(input, \"rb\") as f:\n",
    "    data = f.read()\n",
    "input_graph_def.ParseFromString(data)\n",
    "for node in input_graph_def.node:\n",
    "    print (node.name)"
   ]
  },
  {
   "cell_type": "code",
   "execution_count": null,
   "metadata": {},
   "outputs": [],
   "source": []
  }
 ],
 "metadata": {
  "kernelspec": {
   "display_name": "Python 3",
   "language": "python",
   "name": "python3"
  },
  "language_info": {
   "codemirror_mode": {
    "name": "ipython",
    "version": 3
   },
   "file_extension": ".py",
   "mimetype": "text/x-python",
   "name": "python",
   "nbconvert_exporter": "python",
   "pygments_lexer": "ipython3",
   "version": "3.5.2"
  }
 },
 "nbformat": 4,
 "nbformat_minor": 2
}
